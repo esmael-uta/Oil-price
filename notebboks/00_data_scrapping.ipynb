{
 "cells": [
  {
   "cell_type": "code",
   "execution_count": 1,
   "id": "3b47d38f",
   "metadata": {},
   "outputs": [],
   "source": [
    "import requests\n",
    "from bs4 import BeautifulSoup\n",
    "import pandas as pd\n",
    "\n",
    "# Set the URL\n",
    "url = \"https://www.indexmundi.com/energy/?country=et&product=oil&graph=consumption\"\n"
   ]
  },
  {
   "cell_type": "code",
   "execution_count": 2,
   "id": "27280f9f",
   "metadata": {},
   "outputs": [],
   "source": [
    "# Fetch the page\n",
    "response = requests.get(url)\n",
    "soup = BeautifulSoup(response.content, 'html.parser')\n",
    "\n",
    "# Find the table - typically inside a <table> tag\n",
    "table = soup.find('table')\n",
    "\n",
    "# Initialize empty lists to store data\n",
    "years = []\n",
    "values = []\n",
    "\n",
    "# Loop through table rows\n",
    "for row in table.find_all('tr')[1:]:  # Skip the header row\n",
    "    cols = row.find_all('td')\n",
    "    if len(cols) == 2:\n",
    "        year = cols[0].text.strip()\n",
    "        value = cols[1].text.strip().replace(',', '')\n",
    "        years.append(year)\n",
    "        values.append(value)\n"
   ]
  },
  {
   "cell_type": "code",
   "execution_count": 3,
   "id": "f026a3b5",
   "metadata": {},
   "outputs": [
    {
     "name": "stdout",
     "output_type": "stream",
     "text": [
      "Data saved to ethiopia_oil_consumption.csv\n"
     ]
    },
    {
     "data": {
      "text/html": [
       "<div>\n",
       "<style scoped>\n",
       "    .dataframe tbody tr th:only-of-type {\n",
       "        vertical-align: middle;\n",
       "    }\n",
       "\n",
       "    .dataframe tbody tr th {\n",
       "        vertical-align: top;\n",
       "    }\n",
       "\n",
       "    .dataframe thead th {\n",
       "        text-align: right;\n",
       "    }\n",
       "</style>\n",
       "<table border=\"1\" class=\"dataframe\">\n",
       "  <thead>\n",
       "    <tr style=\"text-align: right;\">\n",
       "      <th></th>\n",
       "      <th>Year</th>\n",
       "      <th>Consumption (Barrels/Day)</th>\n",
       "    </tr>\n",
       "  </thead>\n",
       "  <tbody>\n",
       "  </tbody>\n",
       "</table>\n",
       "</div>"
      ],
      "text/plain": [
       "Empty DataFrame\n",
       "Columns: [Year, Consumption (Barrels/Day)]\n",
       "Index: []"
      ]
     },
     "execution_count": 3,
     "metadata": {},
     "output_type": "execute_result"
    }
   ],
   "source": [
    "# Create a DataFrame\n",
    "df = pd.DataFrame({\n",
    "    'Year': years,\n",
    "    'Consumption (Barrels/Day)': values\n",
    "})\n",
    "\n",
    "# Convert year to integer and consumption to float\n",
    "df['Year'] = df['Year'].astype(int)\n",
    "df['Consumption (Barrels/Day)'] = pd.to_numeric(df['Consumption (Barrels/Day)'], errors='coerce')\n",
    "\n",
    "# Save to CSV\n",
    "df.to_csv('ethiopia_oil_consumption.csv', index=False)\n",
    "\n",
    "print(\"Data saved to ethiopia_oil_consumption.csv\")\n",
    "df.head()\n"
   ]
  },
  {
   "cell_type": "code",
   "execution_count": 4,
   "id": "216fa4bf",
   "metadata": {},
   "outputs": [
    {
     "name": "stdout",
     "output_type": "stream",
     "text": [
      "<!DOCTYPE html PUBLIC \"-//W3C//DTD XHTML 1.0 Transitional//EN\" \"http://www.w3.org/TR/xhtml1/DTD/xhtml1-transitional.dtd\">\n",
      "<html lang=\"en\" xmlns=\"http://www.w3.org/1999/xhtml\">\n",
      " <head>\n",
      "  <title>\n",
      "   Ethiopia Crude Oil Consumption by Year (Thousand Barrels per Day)\n",
      "  </title>\n",
      "  <meta content=\"696085087\" property=\"fb:admins\"/>\n",
      "  <meta content=\"http://www.indexmundi.com/img/compare-200x200.jpg\" property=\"og:image\"/>\n",
      "  <link href=\"/s/s.css\" rel=\"stylesheet\" type=\"text/css\"/>\n",
      "  <script src=\"/js/charts.3.7.1/fusioncharts.js\" type=\"text/javascript\">\n",
      "  </script>\n",
      "  <style type=\"text/css\">\n",
      "   body {font-family:Arial,Verdana,Helvetica,Sans-Serif;margin-left:8px;margin-right:8px;}\n",
      "    h1 {font-size:smaller;background-color:#e5ecf9;padding:0.5em;}\n",
      "    h3 {font-size:small;background-color:#e5ecf9;padding:0.5em;margin-bottom:0.25em;margin-top:0.5em;}\n",
      "    .news p {font-size:smaller;margin-left:0.5em;margin-right:0.5em;}\n",
      "    .sectionTitle {background-color:#e5ecf9;margin-top:2em;width:98%;}\n",
      "    .sec\n"
     ]
    }
   ],
   "source": [
    "print(soup.prettify()[:1000])  # Print first 1000 characters of the HTML to inspect structure\n"
   ]
  },
  {
   "cell_type": "code",
   "execution_count": 2,
   "id": "16d57881",
   "metadata": {},
   "outputs": [
    {
     "ename": "ModuleNotFoundError",
     "evalue": "No module named 'selenium'",
     "output_type": "error",
     "traceback": [
      "\u001b[1;31m---------------------------------------------------------------------------\u001b[0m",
      "\u001b[1;31mModuleNotFoundError\u001b[0m                       Traceback (most recent call last)",
      "Cell \u001b[1;32mIn[2], line 1\u001b[0m\n\u001b[1;32m----> 1\u001b[0m \u001b[38;5;28;01mfrom\u001b[39;00m \u001b[38;5;21;01mselenium\u001b[39;00m \u001b[38;5;28;01mimport\u001b[39;00m webdriver\n\u001b[0;32m      2\u001b[0m \u001b[38;5;28;01mfrom\u001b[39;00m \u001b[38;5;21;01mselenium\u001b[39;00m\u001b[38;5;21;01m.\u001b[39;00m\u001b[38;5;21;01mwebdriver\u001b[39;00m\u001b[38;5;21;01m.\u001b[39;00m\u001b[38;5;21;01mchrome\u001b[39;00m\u001b[38;5;21;01m.\u001b[39;00m\u001b[38;5;21;01mservice\u001b[39;00m \u001b[38;5;28;01mimport\u001b[39;00m Service\n\u001b[0;32m      3\u001b[0m \u001b[38;5;28;01mfrom\u001b[39;00m \u001b[38;5;21;01mselenium\u001b[39;00m\u001b[38;5;21;01m.\u001b[39;00m\u001b[38;5;21;01mwebdriver\u001b[39;00m\u001b[38;5;21;01m.\u001b[39;00m\u001b[38;5;21;01mcommon\u001b[39;00m\u001b[38;5;21;01m.\u001b[39;00m\u001b[38;5;21;01mby\u001b[39;00m \u001b[38;5;28;01mimport\u001b[39;00m By\n",
      "\u001b[1;31mModuleNotFoundError\u001b[0m: No module named 'selenium'"
     ]
    }
   ],
   "source": [
    "from selenium import webdriver\n",
    "from selenium.webdriver.chrome.service import Service\n",
    "from selenium.webdriver.common.by import By\n",
    "import pandas as pd\n",
    "import time\n",
    "\n",
    "# Replace this with your path to chromedriver\n",
    "chrome_path = \"C:/path/to/chromedriver.exe\"\n",
    "service = Service(chrome_path)\n",
    "\n",
    "# Start browser\n",
    "driver = webdriver.Chrome(service=service)\n",
    "\n",
    "# Load page\n",
    "url = \"https://www.indexmundi.com/energy/?country=et&product=oil&graph=consumption\"\n",
    "driver.get(url)\n",
    "\n",
    "# Wait for page to load fully\n",
    "time.sleep(5)\n",
    "\n",
    "# Extract table rows\n",
    "rows = driver.find_elements(By.CSS_SELECTOR, \"table tbody tr\")\n",
    "\n",
    "# Extract data\n",
    "data = []\n",
    "for row in rows:\n",
    "    cols = row.find_elements(By.TAG_NAME, \"td\")\n",
    "    if len(cols) == 2:\n",
    "        year = cols[0].text.strip()\n",
    "        value = cols[1].text.strip()\n",
    "        data.append([year, value])\n",
    "\n",
    "# Close browser\n",
    "driver.quit()\n",
    "\n",
    "# Convert to DataFrame\n",
    "df = pd.DataFrame(data, columns=[\"Year\", \"Consumption (Barrels/Day)\"])\n",
    "df[\"Year\"] = df[\"Year\"].astype(int)\n",
    "df[\"Consumption (Barrels/Day)\"] = pd.to_numeric(df[\"Consumption (Barrels/Day)\"], errors='coerce')\n",
    "\n",
    "# Save to CSV\n",
    "df.to_csv(\"ethiopia_oil_consumption.csv\", index=False)\n",
    "print(\"✅ Data saved to ethiopia_oil_consumption.csv\")\n",
    "print(df.head())\n"
   ]
  }
 ],
 "metadata": {
  "kernelspec": {
   "display_name": "base",
   "language": "python",
   "name": "python3"
  },
  "language_info": {
   "codemirror_mode": {
    "name": "ipython",
    "version": 3
   },
   "file_extension": ".py",
   "mimetype": "text/x-python",
   "name": "python",
   "nbconvert_exporter": "python",
   "pygments_lexer": "ipython3",
   "version": "3.12.7"
  }
 },
 "nbformat": 4,
 "nbformat_minor": 5
}
